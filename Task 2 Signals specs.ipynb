{
 "cells": [
  {
   "cell_type": "code",
   "execution_count": 1,
   "metadata": {},
   "outputs": [
    {
     "data": {
      "text/plain": [
       "<Figure size 640x480 with 9 Axes>"
      ]
     },
     "metadata": {},
     "output_type": "display_data"
    }
   ],
   "source": [
    "from os.path import dirname, join as pjoin\n",
    "import scipy.io as sio\n",
    "from scipy import signal\n",
    "import numpy as np\n",
    "import matplotlib.pyplot as plot\n",
    " \n",
    "#Импорт сигналов через костыли произошел, но главное, что работает же!\n",
    "\n",
    "mat_fname = \"C:\\\\уеба\\\\мага\\\\питончик\\\\LaPlasCompTech\\\\LaPlasCompTech\\\\30303MHG_Isat_09.mat\"\n",
    "mat_fname1 = \"C:\\\\уеба\\\\мага\\\\питончик\\\\LaPlasCompTech\\\\LaPlasCompTech\\\\33484K-HFS.mat\"\n",
    "mat_fname2 = \"C:\\\\уеба\\\\мага\\\\питончик\\\\LaPlasCompTech\\\\LaPlasCompTech\\\\33484K-LFS.mat\"\n",
    " \n",
    "mat_contents = sio.loadmat(mat_fname)\n",
    "mat_contents1 = sio.loadmat(mat_fname1)\n",
    "mat_contents2 = sio.loadmat(mat_fname2)\n",
    " \n",
    "b, a = signal.butter(8, 0.125)\n",
    "samplingFrequency = 120e3\n",
    " \n",
    "sig = mat_contents['sig']\n",
    "tb = mat_contents['tb']\n",
    "sig1 = np.reshape(sig,(sig.size,))\n",
    "tb1 = np.reshape(tb,(tb.size,))\n",
    "fgust = signal.filtfilt(b, a, sig1, method=\"gust\")\n",
    "fgust1 = np.reshape(fgust,(fgust.size,))\n",
    " \n",
    "sigKH = mat_contents1['sigKH']\n",
    "tbKH = mat_contents1['tbKH']\n",
    "sigKH1 = np.reshape(sigKH,(sigKH.size,))\n",
    "tbKH1 = np.reshape(tbKH,(tbKH.size,))\n",
    "fgustKH = signal.filtfilt(b, a, sigKH1, method=\"gust\")\n",
    "fgustKH1 = np.reshape(fgustKH,(fgustKH.size,))\n",
    " \n",
    "sigKL = mat_contents2['sigKL']\n",
    "tbKL = mat_contents2['tbKL']\n",
    "sigKL1 = np.reshape(sigKL,(sigKL.size,))\n",
    "tbKL1 = np.reshape(tbKL,(tbKL.size,))\n",
    "fgustKL = signal.filtfilt(b, a, sigKL1, method=\"gust\")\n",
    "fgustKL1 = np.reshape(fgustKL,(fgustKL.size,))\n",
    " \n",
    "plot.subplot(331)\n",
    "plot.plot(tb1, sig1, 'k-')\n",
    "plot.plot(tb1, fgust1, 'c-', linewidth=0.25)\n",
    "plot.xlabel('Time')\n",
    "plot.ylabel('Amplitude')\n",
    " \n",
    "plot.subplot(332)\n",
    "plot.plot(tbKH1, sigKH1, 'k-')\n",
    "plot.plot(tbKH1, fgustKH1, 'c-', linewidth=0.25)\n",
    " \n",
    "plot.subplot(333)\n",
    "plot.plot(tbKL1, sigKL1, 'k-')\n",
    "plot.plot(tbKL1, fgustKL1, 'c-', linewidth=0.25)\n",
    " \n",
    "plot.subplot(334)\n",
    "powerSpectrum, freqenciesFound, time, imageAxis = plot.specgram(sig1, Fs=samplingFrequency)\n",
    "plot.ylabel('Frequency [Hz]')\n",
    "plot.xlabel('Time [sec]')\n",
    " \n",
    "plot.subplot(335)\n",
    "powerSpectrum, freqenciesFound, time, imageAxis = plot.specgram(sigKH1, Fs=samplingFrequency)\n",
    " \n",
    "plot.subplot(336)\n",
    "powerSpectrum, freqenciesFound, time, imageAxis = plot.specgram(sigKL1, Fs=samplingFrequency)\n",
    " \n",
    "plot.subplot(337)\n",
    "powerSpectrum, freqenciesFound, time, imageAxis = plot.specgram(fgust1, Fs=samplingFrequency)\n",
    "plot.ylabel('Frequency [Hz]')\n",
    "plot.xlabel('Time [sec]')\n",
    " \n",
    "plot.subplot(338)\n",
    "powerSpectrum, freqenciesFound, time, imageAxis = plot.specgram(fgustKH1, Fs=samplingFrequency)\n",
    " \n",
    "plot.subplot(339)\n",
    "powerSpectrum, freqenciesFound, time, imageAxis = plot.specgram(fgustKL1, Fs=samplingFrequency)\n",
    " \n",
    "plot.show()\n",
    " \n",
    "#Не совсем понял что значит сравнить спектрограммы исходных и отфлитрованных сигналов. Визуально видно, что шума нет."
   ]
  },
  {
   "cell_type": "code",
   "execution_count": null,
   "metadata": {},
   "outputs": [],
   "source": []
  }
 ],
 "metadata": {
  "kernelspec": {
   "display_name": "Python 3",
   "language": "python",
   "name": "python3"
  },
  "language_info": {
   "codemirror_mode": {
    "name": "ipython",
    "version": 3
   },
   "file_extension": ".py",
   "mimetype": "text/x-python",
   "name": "python",
   "nbconvert_exporter": "python",
   "pygments_lexer": "ipython3",
   "version": "3.7.3"
  }
 },
 "nbformat": 4,
 "nbformat_minor": 2
}
