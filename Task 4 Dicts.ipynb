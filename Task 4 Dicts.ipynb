{
 "cells": [
  {
   "cell_type": "code",
   "execution_count": 1,
   "metadata": {},
   "outputs": [
    {
     "name": "stdout",
     "output_type": "stream",
     "text": [
      "Predators and Prey:\n",
      "Bird eats Prawn, Mussels, Crab, Limpets and Whelk\n",
      "Crab eats Mussels and Limpets\n",
      "Fish eats Prawn\n",
      "Limpets eats Seaweed\n",
      "Lobster eats Crab, Mussels, Limpets and Whelk\n",
      "Mussels eats Phytoplankton and Zooplankton\n",
      "Prawn eats Zooplankton\n",
      "Whelk eats Limpets and Mussels\n",
      "Zooplankton eats Phytoplankton\n"
     ]
    }
   ],
   "source": [
    "ll = []\n",
    "dd = {}\n",
    "#В этой части кода избавляюсь от \\n\\n (т.е ентеров)\n",
    "with open(\"C:\\\\уеба\\\\мага\\\\питончик\\\\predators_prey.txt\") as file:\n",
    "    l = file.readlines()\n",
    "    for i in l:\n",
    "        if not i in ll:\n",
    "            ll.append(i)\n",
    "ll.pop(1)\n",
    "# Чтобы возможно было присвоить x, y = bird: prawn\n",
    "for line in ll:\n",
    "    x, y = line.strip().split(' eats ')\n",
    "#Проверка на повторяемость ключей: При повторе ключа, ему не присваевается новое значение, а добавляется новое как список.\n",
    "    if not x in dd:\n",
    "        dd[x] = [y]\n",
    "    else:\n",
    "        dd[x].append(y)\n",
    "\n",
    "\n",
    "#Тут я вообще с ума сошел и решил вводить первую строку, ориентируясь на название файла.\n",
    "#Так, чтобы из 'имя_файла.txt' получилось\n",
    "#'Имя and Файла:' \n",
    "P, p = file.name.split('\\\\')[4].split('.')[0].split('_')\n",
    "print(P.capitalize(), 'and', p.capitalize() + ':')\n",
    "#Мудренно вышло, часа 3 долбался с этим куском\n",
    "for key, val in dd.items():\n",
    "    val0 = ''\n",
    "    if len(val) != 1:\n",
    "        for i in range(len(val)-1):\n",
    "            if val0 != '':\n",
    "                val0 = val0 + ', ' + str(val[i])\n",
    "            else:\n",
    "                val0 = str(val[i])\n",
    "        print(key, 'eats', val0, 'and', val[-1])\n",
    "    else:\n",
    "        print(key, 'eats', val[-1])"
   ]
  },
  {
   "cell_type": "code",
   "execution_count": null,
   "metadata": {},
   "outputs": [],
   "source": []
  }
 ],
 "metadata": {
  "kernelspec": {
   "display_name": "Python 3",
   "language": "python",
   "name": "python3"
  },
  "language_info": {
   "codemirror_mode": {
    "name": "ipython",
    "version": 3
   },
   "file_extension": ".py",
   "mimetype": "text/x-python",
   "name": "python",
   "nbconvert_exporter": "python",
   "pygments_lexer": "ipython3",
   "version": "3.7.3"
  }
 },
 "nbformat": 4,
 "nbformat_minor": 2
}
